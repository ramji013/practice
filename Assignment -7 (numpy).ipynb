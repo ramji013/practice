{
 "cells": [
  {
   "cell_type": "markdown",
   "metadata": {},
   "source": [
    "Write a function so that the columns of the output matrix are powers of the input\n",
    "vector.\n",
    "The order of the powers is determined by the increasing boolean argument. Specifically, when\n",
    "increasing is False, the i-th output column is the input vector raised element-wise to the power\n",
    "of N - i - 1.\n",
    "\n",
    "HINT: Such a matrix with a geometric progression in each row is named for Alexandre-\n",
    "Theophile Vandermonde."
   ]
  },
  {
   "cell_type": "code",
   "execution_count": 24,
   "metadata": {},
   "outputs": [
    {
     "name": "stdout",
     "output_type": "stream",
     "text": [
      "Increasing matrix: \n",
      "\n",
      "[[ 1  1  1]\n",
      " [ 1  2  4]\n",
      " [ 1  3  9]\n",
      " [ 1  4 16]\n",
      " [ 1  5 25]\n",
      " [ 1  6 36]]\n",
      "\n",
      "Decreasing matrix: \n",
      "\n",
      "[[ 1  1  1]\n",
      " [ 4  2  1]\n",
      " [ 9  3  1]\n",
      " [16  4  1]\n",
      " [25  5  1]\n",
      " [36  6  1]]\n"
     ]
    }
   ],
   "source": [
    "import numpy as np\n",
    "\n",
    "def vandermonde_matrix(inputVector, numberOfColumn, orderType):\n",
    "    if orderType:\n",
    "        return np.array([pow(iv,i) for iv in inputVector for i in range(numberOfColumn)]).reshape(len(inputVector), numberOfColumn)\n",
    "    else:\n",
    "        return np.array([pow(iv, numberOfColumn-i-1) for iv in inputVector for i in range(numberOfColumn)]).reshape(len(inputVector), numberOfColumn)\n",
    "    \n",
    "    \n",
    "inputVector = np.array([1,2,3,4,5,6])\n",
    "numberOfColumn = 3\n",
    "print(\"Increasing matrix: \\n\")\n",
    "print(vandermonde_matrix(inputVector, numberOfColumn ,True))\n",
    "print(\"\\nDecreasing matrix: \\n\")\n",
    "print(vandermonde_matrix(inputVector, numberOfColumn ,False))\n"
   ]
  },
  {
   "cell_type": "markdown",
   "metadata": {},
   "source": [
    "----\n",
    "Write a function to find moving average in an array over a window:\n",
    "Test it over [3, 5, 7, 2, 8, 10, 11, 65, 72, 81, 99, 100, 150] and window of 3."
   ]
  },
  {
   "cell_type": "code",
   "execution_count": 50,
   "metadata": {},
   "outputs": [
    {
     "name": "stdout",
     "output_type": "stream",
     "text": [
      "Number of iteration the window take : 11\n",
      "moving average :  [5.0, 4.666666666666667, 5.666666666666667, 6.666666666666667, 9.666666666666666, 28.666666666666668, 49.333333333333336, 72.66666666666667, 84.0, 93.33333333333333, 116.33333333333333]\n"
     ]
    }
   ],
   "source": [
    "input_vector = np.array([3, 5, 7, 2, 8, 10, 11, 65, 72, 81, 99, 100, 150])\n",
    "\n",
    "window = 3\n",
    "\n",
    "mvg = list()\n",
    "\n",
    "for i in range(window, len(input_vector)+1):\n",
    "    mvg.append(input_vector[i-window:i].mean())\n",
    "\n",
    "\n",
    "print(\"Number of iteration the window take :\" , len(mvg))\n",
    "print(\"moving average : \" , mvg)"
   ]
  },
  {
   "cell_type": "code",
   "execution_count": null,
   "metadata": {},
   "outputs": [],
   "source": []
  }
 ],
 "metadata": {
  "kernelspec": {
   "display_name": "Python 3",
   "language": "python",
   "name": "python3"
  },
  "language_info": {
   "codemirror_mode": {
    "name": "ipython",
    "version": 3
   },
   "file_extension": ".py",
   "mimetype": "text/x-python",
   "name": "python",
   "nbconvert_exporter": "python",
   "pygments_lexer": "ipython3",
   "version": "3.7.4"
  }
 },
 "nbformat": 4,
 "nbformat_minor": 2
}
