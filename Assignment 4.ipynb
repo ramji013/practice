{
 "cells": [
  {
   "cell_type": "markdown",
   "metadata": {},
   "source": [
    "1.1 Write a Python Program(with class concepts) to find the area of the triangle using the below\n",
    "formula.\n",
    "area = (s*(s-a)*(s-b)*(s-c)) ** 0.5\n",
    "Function to take the length of the sides of triangle from user should be defined in the parent\n",
    "class and function to calculate the area should be defined in subclass."
   ]
  },
  {
   "cell_type": "code",
   "execution_count": 4,
   "metadata": {},
   "outputs": [
    {
     "name": "stdout",
     "output_type": "stream",
     "text": [
      "Enter a value : 23\n",
      "Enter b value : 12.4\n",
      "Enter c value : 13\n",
      "61.95099999192908\n"
     ]
    }
   ],
   "source": [
    "class Area():\n",
    "\n",
    "    def takeLength(self):\n",
    "        self.a = float(input(\"Enter a value : \"))\n",
    "        self.b = float(input(\"Enter b value : \"))\n",
    "        self.c = float(input(\"Enter c value : \"))\n",
    "    \n",
    "    def calculateArea(self):\n",
    "        pass\n",
    "    \n",
    "class Triangle(Area):\n",
    "    \n",
    "    def calculateArea(self):\n",
    "        s = (self.a + self.b + self.c)/2\n",
    "        print((s*(s-self.a)*(s-self.b)*(s-self.c))**0.5)\n",
    "    \n",
    "t = Triangle()\n",
    "t.takeLength()\n",
    "t.calculateArea()"
   ]
  },
  {
   "cell_type": "markdown",
   "metadata": {},
   "source": [
    "---\n",
    "1.2 Write a function filter_long_words() that takes a list of words and an integer n and returns\n",
    "the list of words that are longer than n."
   ]
  },
  {
   "cell_type": "code",
   "execution_count": 1,
   "metadata": {},
   "outputs": [
    {
     "data": {
      "text/plain": [
       "['1231', 'sankar']"
      ]
     },
     "execution_count": 1,
     "metadata": {},
     "output_type": "execute_result"
    }
   ],
   "source": [
    "def filter_long_words(word_lst, n):\n",
    "       return [i for i in word_lst if len(i)>n]\n",
    "\n",
    "filter_long_words([\"1231\", \"ram\", \"sankar\"], 3)"
   ]
  },
  {
   "cell_type": "markdown",
   "metadata": {},
   "source": [
    "----\n",
    "Write a Python program using function concept that maps list of words into a list of integers representing the lengths of the corresponding words . Hint: If a list [ ab,cde,erty] is passed on to the python function output should come as [2,3,4] Here 2,3 and 4 are the lengths of the words in the list."
   ]
  },
  {
   "cell_type": "code",
   "execution_count": 2,
   "metadata": {},
   "outputs": [
    {
     "data": {
      "text/plain": [
       "[4, 3, 6]"
      ]
     },
     "execution_count": 2,
     "metadata": {},
     "output_type": "execute_result"
    }
   ],
   "source": [
    "def get_word_length(word_lst):\n",
    "    return [len(i) for i in word_lst]\n",
    "\n",
    "get_word_length([\"1231\", \"ram\", \"sankar\"])"
   ]
  },
  {
   "cell_type": "markdown",
   "metadata": {},
   "source": [
    "----\n",
    "Write a Python function which takes a character (i.e. a string of length 1) and returns True if it is a vowel, False otherwise"
   ]
  },
  {
   "cell_type": "code",
   "execution_count": 3,
   "metadata": {},
   "outputs": [
    {
     "data": {
      "text/plain": [
       "False"
      ]
     },
     "execution_count": 3,
     "metadata": {},
     "output_type": "execute_result"
    }
   ],
   "source": [
    "def is_vowel(c):\n",
    "    return c is not None and c.lower() in ['a','e', 'i', 'o', 'u']\n",
    "\n",
    "is_vowel(None)"
   ]
  },
  {
   "cell_type": "code",
   "execution_count": null,
   "metadata": {},
   "outputs": [],
   "source": []
  }
 ],
 "metadata": {
  "kernelspec": {
   "display_name": "Python 3",
   "language": "python",
   "name": "python3"
  },
  "language_info": {
   "codemirror_mode": {
    "name": "ipython",
    "version": 3
   },
   "file_extension": ".py",
   "mimetype": "text/x-python",
   "name": "python",
   "nbconvert_exporter": "python",
   "pygments_lexer": "ipython3",
   "version": "3.7.4"
  }
 },
 "nbformat": 4,
 "nbformat_minor": 2
}
